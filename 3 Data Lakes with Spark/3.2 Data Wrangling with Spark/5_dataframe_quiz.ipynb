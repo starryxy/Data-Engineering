{
 "cells": [
  {
   "cell_type": "markdown",
   "metadata": {},
   "source": [
    "# Data Wrangling with DataFrames Coding Quiz\n",
    "\n",
    "Use this Jupyter notebook to find the answers to the quiz in the previous section. There is an answer key in the next part of the lesson."
   ]
  },
  {
   "cell_type": "code",
   "execution_count": 1,
   "metadata": {},
   "outputs": [],
   "source": [
    "from pyspark.sql import SparkSession\n",
    "\n",
    "# TODOS: \n",
    "# 1) import any other libraries you might need\n",
    "# 2) instantiate a Spark session \n",
    "# 3) read in the data set located at the path \"data/sparkify_log_small.json\"\n",
    "# 4) write code to answer the quiz questions "
   ]
  },
  {
   "cell_type": "code",
   "execution_count": 2,
   "metadata": {},
   "outputs": [],
   "source": [
    "from pyspark.sql.functions import udf\n",
    "from pyspark.sql.types import StringType\n",
    "from pyspark.sql.types import IntegerType\n",
    "from pyspark.sql.functions import desc\n",
    "from pyspark.sql.functions import asc\n",
    "from pyspark.sql.functions import sum as Fsum\n",
    "\n",
    "import datetime\n",
    "\n",
    "import numpy as np\n",
    "import pandas as pd"
   ]
  },
  {
   "cell_type": "code",
   "execution_count": 3,
   "metadata": {},
   "outputs": [],
   "source": [
    "spark = SparkSession \\\n",
    "    .builder \\\n",
    "    .appName(\"Wrangling Data Quiz\") \\\n",
    "    .getOrCreate()"
   ]
  },
  {
   "cell_type": "code",
   "execution_count": 59,
   "metadata": {},
   "outputs": [],
   "source": [
    "path = \"data/sparkify_log_small.json\"\n",
    "user_log = spark.read.json(path)"
   ]
  },
  {
   "cell_type": "markdown",
   "metadata": {},
   "source": [
    "# Question 1\n",
    "\n",
    "Which page did user id \"\" (empty string) NOT visit?"
   ]
  },
  {
   "cell_type": "code",
   "execution_count": 9,
   "metadata": {},
   "outputs": [
    {
     "name": "stdout",
     "output_type": "stream",
     "text": [
      "+-----+\n",
      "| page|\n",
      "+-----+\n",
      "|About|\n",
      "| Help|\n",
      "| Home|\n",
      "|Login|\n",
      "+-----+\n",
      "\n"
     ]
    }
   ],
   "source": [
    "# TODO: write your code to answer question 1\n",
    "user_log.select(\"page\").where(user_log.userId == \"\").dropDuplicates().sort(\"page\").show()"
   ]
  },
  {
   "cell_type": "markdown",
   "metadata": {},
   "source": [
    "# Question 2 - Reflect\n",
    "\n",
    "What type of user does the empty string user id most likely refer to?\n"
   ]
  },
  {
   "cell_type": "code",
   "execution_count": 27,
   "metadata": {},
   "outputs": [
    {
     "name": "stdout",
     "output_type": "stream",
     "text": [
      "+-----+-----+-------------+-----+-------------+---------+\n",
      "| page|level|           ts| auth|itemInSession|sessionId|\n",
      "+-----+-----+-------------+-----+-------------+---------+\n",
      "| Home| free|1513784350284|Guest|            0|     3011|\n",
      "|About| free|1513784461284|Guest|            1|     3011|\n",
      "+-----+-----+-------------+-----+-------------+---------+\n",
      "\n"
     ]
    }
   ],
   "source": [
    "# TODO: use this space to explore the behavior of the user with an empty string\n",
    "user_log.filter(user_log.userId == \"\").select([\"page\", \"level\", \"ts\", \"auth\", \"itemInSession\", \"sessionId\"]).where(user_log.auth != \"Logged Out\").sort(\"ts\").show()"
   ]
  },
  {
   "cell_type": "code",
   "execution_count": 28,
   "metadata": {},
   "outputs": [
    {
     "data": {
      "text/plain": [
       "186"
      ]
     },
     "execution_count": 28,
     "metadata": {},
     "output_type": "execute_result"
    }
   ],
   "source": [
    "user_log.filter(user_log.userId == \"\").select(\"sessionId\").dropDuplicates().count()"
   ]
  },
  {
   "cell_type": "code",
   "execution_count": 31,
   "metadata": {},
   "outputs": [
    {
     "name": "stdout",
     "output_type": "stream",
     "text": [
      "+-----+-----+-------------+-------------+---------+\n",
      "| page|level|           ts|itemInSession|sessionId|\n",
      "+-----+-----+-------------+-------------+---------+\n",
      "| Home| paid|1513787722284|           66|     2293|\n",
      "|Login| paid|1513763026284|           65|     1078|\n",
      "| Home| paid|1513763025284|           64|     1078|\n",
      "|Login| paid|1513729763284|           61|     5175|\n",
      "| Home| paid|1513729762284|           60|     5175|\n",
      "| Home| paid|1513830380284|           58|     6878|\n",
      "| Home| paid|1513742804284|           57|     5478|\n",
      "|Login| paid|1513811494284|           53|     6652|\n",
      "| Home| paid|1513811493284|           52|     6652|\n",
      "|Login| paid|1513842368284|           46|     5431|\n",
      "| Home| paid|1513842367284|           45|     5431|\n",
      "| Home| paid|1513750618284|           44|     1985|\n",
      "|Login| paid|1513799227284|           44|     5731|\n",
      "| Home| paid|1513799226284|           43|     5731|\n",
      "|About| paid|1513738848284|           43|     3146|\n",
      "| Home| paid|1513738847284|           42|     3146|\n",
      "| Home| paid|1513751311284|           42|     5915|\n",
      "| Home| paid|1513780570284|           41|      485|\n",
      "|Login| paid|1513785744284|           38|      643|\n",
      "|Login| paid|1513789891284|           38|     6050|\n",
      "+-----+-----+-------------+-------------+---------+\n",
      "only showing top 20 rows\n",
      "\n"
     ]
    }
   ],
   "source": [
    "user_log.filter(user_log.userId == \"\").select([\"page\", \"level\", \"ts\", \"itemInSession\", \"sessionId\"]).sort(desc(\"itemInSession\")).show()"
   ]
  },
  {
   "cell_type": "code",
   "execution_count": 47,
   "metadata": {},
   "outputs": [
    {
     "name": "stdout",
     "output_type": "stream",
     "text": [
      "+------+-----+-----+-------------+-------------+---------+\n",
      "|userId| page|level|           ts|itemInSession|sessionId|\n",
      "+------+-----+-----+-------------+-------------+---------+\n",
      "|      |Login| paid|1513782398284|            0|     6050|\n",
      "|      | Home| paid|1513789890284|           37|     6050|\n",
      "|      |Login| paid|1513789891284|           38|     6050|\n",
      "+------+-----+-----+-------------+-------------+---------+\n",
      "\n"
     ]
    }
   ],
   "source": [
    "user_log.filter(user_log.userId == \"\").select([\"userId\", \"page\", \"level\", \"ts\", \"itemInSession\", \"sessionId\"]).where(user_log.sessionId == \"6050\").show()"
   ]
  },
  {
   "cell_type": "markdown",
   "metadata": {},
   "source": [
    "# Question 3\n",
    "\n",
    "How many female users do we have in the data set?"
   ]
  },
  {
   "cell_type": "code",
   "execution_count": 48,
   "metadata": {},
   "outputs": [
    {
     "data": {
      "text/plain": [
       "462"
      ]
     },
     "execution_count": 48,
     "metadata": {},
     "output_type": "execute_result"
    }
   ],
   "source": [
    "# TODO: write your code to answer question 3\n",
    "user_log.filter(user_log.gender == \"F\").select(\"userId\").dropDuplicates().count()"
   ]
  },
  {
   "cell_type": "markdown",
   "metadata": {},
   "source": [
    "# Question 4\n",
    "\n",
    "How many songs were played from the most played artist?"
   ]
  },
  {
   "cell_type": "code",
   "execution_count": 52,
   "metadata": {},
   "outputs": [
    {
     "name": "stdout",
     "output_type": "stream",
     "text": [
      "+--------------------+-----+\n",
      "|              artist|count|\n",
      "+--------------------+-----+\n",
      "|                null| 1653|\n",
      "|            Coldplay|   83|\n",
      "|       Kings Of Leon|   69|\n",
      "|Florence + The Ma...|   52|\n",
      "|            BjÃÂ¶rk|   46|\n",
      "|       Dwight Yoakam|   45|\n",
      "|       Justin Bieber|   43|\n",
      "|      The Black Keys|   40|\n",
      "|         OneRepublic|   37|\n",
      "|                Muse|   36|\n",
      "|        Jack Johnson|   36|\n",
      "|           Radiohead|   31|\n",
      "|        Taylor Swift|   29|\n",
      "|Barry Tuckwell/Ac...|   28|\n",
      "|          Lily Allen|   28|\n",
      "|               Train|   28|\n",
      "|           Daft Punk|   27|\n",
      "|           Metallica|   27|\n",
      "|          Nickelback|   27|\n",
      "|          Kanye West|   26|\n",
      "+--------------------+-----+\n",
      "only showing top 20 rows\n",
      "\n"
     ]
    }
   ],
   "source": [
    "# TODO: write your code to answer question 4\n",
    "user_log.groupby(user_log.artist).count().orderBy(desc(\"count\")).show()"
   ]
  },
  {
   "cell_type": "markdown",
   "metadata": {},
   "source": [
    "# Question 5 (challenge)\n",
    "\n",
    "How many songs do users listen to on average between visiting our home page? Please round your answer to the closest integer.\n",
    "\n"
   ]
  },
  {
   "cell_type": "code",
   "execution_count": 60,
   "metadata": {},
   "outputs": [],
   "source": [
    "# TODO: write your code to answer question 5\n",
    "ishome = udf(lambda x: 1 if x == \"Home\" else 0, IntegerType())"
   ]
  },
  {
   "cell_type": "code",
   "execution_count": 61,
   "metadata": {},
   "outputs": [],
   "source": [
    "user_log = user_log.withColumn(\"ishome\", ishome(\"page\"))"
   ]
  },
  {
   "cell_type": "code",
   "execution_count": 62,
   "metadata": {},
   "outputs": [
    {
     "data": {
      "text/plain": [
       "Row(artist='Showaddywaddy', auth='Logged In', firstName='Kenneth', gender='M', itemInSession=112, lastName='Matthews', length=232.93342, level='paid', location='Charlotte-Concord-Gastonia, NC-SC', method='PUT', page='NextSong', registration=1509380319284, sessionId=5132, song='Christmas Tears Will Fall', status=200, ts=1513720872284, userAgent='\"Mozilla/5.0 (Windows NT 6.1) AppleWebKit/537.36 (KHTML, like Gecko) Chrome/36.0.1985.125 Safari/537.36\"', userId='1046', ishome=0)"
      ]
     },
     "execution_count": 62,
     "metadata": {},
     "output_type": "execute_result"
    }
   ],
   "source": [
    "user_log.head()"
   ]
  },
  {
   "cell_type": "code",
   "execution_count": 63,
   "metadata": {},
   "outputs": [],
   "source": [
    "from pyspark.sql import Window"
   ]
  },
  {
   "cell_type": "code",
   "execution_count": 64,
   "metadata": {},
   "outputs": [],
   "source": [
    "user_window = Window.partitionBy(\"userId\").orderBy(\"ts\").rangeBetween(Window.unboundedPreceding, 0)"
   ]
  },
  {
   "cell_type": "code",
   "execution_count": 65,
   "metadata": {},
   "outputs": [],
   "source": [
    "user_log = user_log.withColumn(\"songcnt\", Fsum(\"ishome\").over(user_window))"
   ]
  },
  {
   "cell_type": "code",
   "execution_count": 80,
   "metadata": {},
   "outputs": [
    {
     "name": "stdout",
     "output_type": "stream",
     "text": [
      "+------+-------------+--------------------+--------+------+-------+\n",
      "|userId|           ts|                song|    page|ishome|songcnt|\n",
      "+------+-------------+--------------------+--------+------+-------+\n",
      "|  2756|1513780607284|Recipe For A Hear...|NextSong|     0|      0|\n",
      "|  2756|1513782264284|                null|    Home|     1|      1|\n",
      "|  2756|1513788285284|                null|    Home|     1|      2|\n",
      "|  2756|1513788594284|            Has Been|NextSong|     0|      2|\n",
      "|  2756|1513788730284|Shadowfax (2002 D...|NextSong|     0|      2|\n",
      "|  2756|1513791207284|                null|    Help|     0|      2|\n",
      "|  2756|1513831056284|          Knocked Up|NextSong|     0|      2|\n",
      "|  2756|1513831486284|       Drunk On Love|NextSong|     0|      2|\n",
      "+------+-------------+--------------------+--------+------+-------+\n",
      "\n"
     ]
    }
   ],
   "source": [
    "user_log.select([\"userId\", \"ts\", \"song\", \"page\", \"ishome\", \"songcnt\"]).where(user_log.userId == \"2756\").sort(\"ts\").show()"
   ]
  },
  {
   "cell_type": "code",
   "execution_count": 78,
   "metadata": {},
   "outputs": [
    {
     "name": "stdout",
     "output_type": "stream",
     "text": [
      "+------+-------+--------------+\n",
      "|userId|songcnt|count(songcnt)|\n",
      "+------+-------+--------------+\n",
      "|  1436|      0|             2|\n",
      "|  2088|      0|            13|\n",
      "|  2162|      0|            15|\n",
      "|  2162|      2|            19|\n",
      "|  2294|      0|            11|\n",
      "|  2294|      1|             4|\n",
      "|  2294|      2|            16|\n",
      "|  2294|      3|             3|\n",
      "|  2294|      4|            17|\n",
      "|  2294|      5|             4|\n",
      "|  2904|      0|             1|\n",
      "|   691|      0|             3|\n",
      "|  1394|      0|            17|\n",
      "|  1394|      1|             9|\n",
      "|  2275|      1|             3|\n",
      "|  2756|      0|             1|\n",
      "|  2756|      2|             4|\n",
      "|   451|      1|             1|\n",
      "|   451|      2|             1|\n",
      "|   800|      0|             2|\n",
      "+------+-------+--------------+\n",
      "only showing top 20 rows\n",
      "\n"
     ]
    }
   ],
   "source": [
    "user_log.filter(user_log.page == 'NextSong').groupby(\"userId\", \"songcnt\").agg({'songcnt':'count'}).show()"
   ]
  },
  {
   "cell_type": "code",
   "execution_count": 79,
   "metadata": {},
   "outputs": [
    {
     "name": "stdout",
     "output_type": "stream",
     "text": [
      "+-------------------+\n",
      "|avg(count(songcnt))|\n",
      "+-------------------+\n",
      "| 6.9558333333333335|\n",
      "+-------------------+\n",
      "\n"
     ]
    }
   ],
   "source": [
    "user_log.filter(user_log.page == 'NextSong').groupby(\"userId\", \"songcnt\").agg({'songcnt':'count'}).agg({'count(songcnt)':'avg'}).show()"
   ]
  },
  {
   "cell_type": "code",
   "execution_count": null,
   "metadata": {},
   "outputs": [],
   "source": []
  }
 ],
 "metadata": {
  "kernelspec": {
   "display_name": "Python 3",
   "language": "python",
   "name": "python3"
  },
  "language_info": {
   "codemirror_mode": {
    "name": "ipython",
    "version": 3
   },
   "file_extension": ".py",
   "mimetype": "text/x-python",
   "name": "python",
   "nbconvert_exporter": "python",
   "pygments_lexer": "ipython3",
   "version": "3.6.3"
  }
 },
 "nbformat": 4,
 "nbformat_minor": 2
}
